{
 "cells": [
  {
   "cell_type": "markdown",
   "id": "ef30fb4c",
   "metadata": {},
   "source": [
    "[![INFORMS Journal on Computing Logo](https://INFORMSJoC.github.io/logos/INFORMS_Journal_on_Computing_Header.jpg)](https://doi.org/10.1287/ijoc.2023.1288)\n",
    "\n",
    "# The Hot Spot Coverage Patrol Problem: Formulations and Solution Approaches\n",
    "\n",
    "This archive is distributed in association with the [INFORMS Journal on Computing](https://pubsonline.informs.org/journal/ijoc) under the [MIT License](LICENSE).\n",
    "\n",
    "The purpose of this repository is to share the data used in the paper [The Hot Spot Coverage Patrol Problem: Formulations and Solution Approaches] by Y. Luo, B. Golden, and R. Zhang.\n",
    "\n",
    "### Cite\n",
    "```bib\n",
    "Below is the BibTex for citing this version of the data.

"@article{hscpp_data,
 "   title = {Data for The Hot Spot Coverage Patrol Problem: Formulations and Solution Approaches},
 "   author = {Y. Luo, B. Golden, and R. Zhang},
 "   year = {2023},
 "   journal = {INFORMS Journal on Computing},
 "   note = {Forthcoming},
 "   url = {https://github.com/INFORMSJoC/2022.0192},
    "}\n",
    "```\n",
    "\n",
    "## Instances\n",
    "\n",
    "Instances contained in folder `data`. Both real-world and simulated instances are provided here. To use the data, install the package pickle by\n",
    "\n",
    "```bash\n",
    "pip install pickle\n",
    "```\n",
    "and use the following command:\n",
    "\n",
    "```bash\n",
    "with open(\"filename\", \"rb\") as fp: \n",
    "    [Prize, dist_matrix, coordinates] = pickle.load(fp)\n",
    "```\n",
    "\n",
    "Each file includes the prize, the distance matrix, and the coordinates of the nodes.\n",
    "\n",
    "\n",
    "## Algorithm\n",
    "The algorithms in this paper will be provided at a later date when there is no conflict of interest.\n",
    "\n",
    "## Results\n",
    "We report the figures of our paper in the Folder `results`\n",
    "\n",
    "## License\n",
    "\n",
    "This software is released under the MIT license, which we report in file `LICENSE`."
   ]
  },
  {
   "cell_type": "code",
   "execution_count": null,
   "id": "8a321b6e",
   "metadata": {},
   "outputs": [],
   "source": []
  }
 ],
 "metadata": {
  "jupytext": {
   "formats": "ipynb,md"
  },
  "kernelspec": {
   "display_name": "Python 3 (ipykernel)",
   "language": "python",
   "name": "python3"
  },
  "language_info": {
   "codemirror_mode": {
    "name": "ipython",
    "version": 3
   },
   "file_extension": ".py",
   "mimetype": "text/x-python",
   "name": "python",
   "nbconvert_exporter": "python",
   "pygments_lexer": "ipython3",
   "version": "3.9.13"
  }
 },
 "nbformat": 4,
 "nbformat_minor": 5
}
